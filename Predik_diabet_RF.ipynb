{
 "cells": [
  {
   "cell_type": "code",
   "execution_count": 34,
   "id": "7afe6b17",
   "metadata": {},
   "outputs": [],
   "source": [
    "import numpy as np\n",
    "import pandas as pd\n",
    "import seaborn as sns\n",
    "import matplotlib.pyplot as plt\n",
    "\n",
    "from sklearn.model_selection import train_test_split, GridSearchCV\n",
    "from sklearn.preprocessing import StandardScaler\n",
    "from sklearn.ensemble import RandomForestClassifier\n",
    "from sklearn.metrics import (\n",
    "    classification_report, accuracy_score, confusion_matrix, ConfusionMatrixDisplay\n",
    ")\n",
    "\n",
    "from imblearn.over_sampling import SMOTE\n",
    "import joblib"
   ]
  },
  {
   "cell_type": "code",
   "execution_count": 35,
   "id": "204b1c67",
   "metadata": {},
   "outputs": [
    {
     "data": {
      "text/html": [
       "<div>\n",
       "<style scoped>\n",
       "    .dataframe tbody tr th:only-of-type {\n",
       "        vertical-align: middle;\n",
       "    }\n",
       "\n",
       "    .dataframe tbody tr th {\n",
       "        vertical-align: top;\n",
       "    }\n",
       "\n",
       "    .dataframe thead th {\n",
       "        text-align: right;\n",
       "    }\n",
       "</style>\n",
       "<table border=\"1\" class=\"dataframe\">\n",
       "  <thead>\n",
       "    <tr style=\"text-align: right;\">\n",
       "      <th></th>\n",
       "      <th>Pregnancies</th>\n",
       "      <th>Glucose</th>\n",
       "      <th>BloodPressure</th>\n",
       "      <th>SkinThickness</th>\n",
       "      <th>Insulin</th>\n",
       "      <th>BMI</th>\n",
       "      <th>DiabetesPedigreeFunction</th>\n",
       "      <th>Age</th>\n",
       "      <th>Outcome</th>\n",
       "    </tr>\n",
       "  </thead>\n",
       "  <tbody>\n",
       "    <tr>\n",
       "      <th>0</th>\n",
       "      <td>6</td>\n",
       "      <td>148</td>\n",
       "      <td>72</td>\n",
       "      <td>35</td>\n",
       "      <td>0</td>\n",
       "      <td>33.6</td>\n",
       "      <td>0.627</td>\n",
       "      <td>50</td>\n",
       "      <td>1</td>\n",
       "    </tr>\n",
       "    <tr>\n",
       "      <th>1</th>\n",
       "      <td>1</td>\n",
       "      <td>85</td>\n",
       "      <td>66</td>\n",
       "      <td>29</td>\n",
       "      <td>0</td>\n",
       "      <td>26.6</td>\n",
       "      <td>0.351</td>\n",
       "      <td>31</td>\n",
       "      <td>0</td>\n",
       "    </tr>\n",
       "    <tr>\n",
       "      <th>2</th>\n",
       "      <td>8</td>\n",
       "      <td>183</td>\n",
       "      <td>64</td>\n",
       "      <td>0</td>\n",
       "      <td>0</td>\n",
       "      <td>23.3</td>\n",
       "      <td>0.672</td>\n",
       "      <td>32</td>\n",
       "      <td>1</td>\n",
       "    </tr>\n",
       "    <tr>\n",
       "      <th>3</th>\n",
       "      <td>1</td>\n",
       "      <td>89</td>\n",
       "      <td>66</td>\n",
       "      <td>23</td>\n",
       "      <td>94</td>\n",
       "      <td>28.1</td>\n",
       "      <td>0.167</td>\n",
       "      <td>21</td>\n",
       "      <td>0</td>\n",
       "    </tr>\n",
       "    <tr>\n",
       "      <th>4</th>\n",
       "      <td>0</td>\n",
       "      <td>137</td>\n",
       "      <td>40</td>\n",
       "      <td>35</td>\n",
       "      <td>168</td>\n",
       "      <td>43.1</td>\n",
       "      <td>2.288</td>\n",
       "      <td>33</td>\n",
       "      <td>1</td>\n",
       "    </tr>\n",
       "  </tbody>\n",
       "</table>\n",
       "</div>"
      ],
      "text/plain": [
       "   Pregnancies  Glucose  BloodPressure  SkinThickness  Insulin   BMI  \\\n",
       "0            6      148             72             35        0  33.6   \n",
       "1            1       85             66             29        0  26.6   \n",
       "2            8      183             64              0        0  23.3   \n",
       "3            1       89             66             23       94  28.1   \n",
       "4            0      137             40             35      168  43.1   \n",
       "\n",
       "   DiabetesPedigreeFunction  Age  Outcome  \n",
       "0                     0.627   50        1  \n",
       "1                     0.351   31        0  \n",
       "2                     0.672   32        1  \n",
       "3                     0.167   21        0  \n",
       "4                     2.288   33        1  "
      ]
     },
     "execution_count": 35,
     "metadata": {},
     "output_type": "execute_result"
    }
   ],
   "source": [
    "# 1. Muat data\n",
    "\n",
    "df = pd.read_csv(\"diabetes.csv\") # Memuat data csv\n",
    "dataset = df.copy() # Copy dataset untuk pemrosesan\n",
    "\n",
    "dataset.head() #enampilkan 5 baris pertama dari dataset"
   ]
  },
  {
   "cell_type": "code",
   "execution_count": 36,
   "id": "16d93b22",
   "metadata": {},
   "outputs": [
    {
     "name": "stdout",
     "output_type": "stream",
     "text": [
      "Dataset shape: (768, 9)\n",
      "Jumlah duplikat: 0\n",
      "Missing values per kolom:\n",
      " Pregnancies                 0\n",
      "Glucose                     0\n",
      "BloodPressure               0\n",
      "SkinThickness               0\n",
      "Insulin                     0\n",
      "BMI                         0\n",
      "DiabetesPedigreeFunction    0\n",
      "Age                         0\n",
      "Outcome                     0\n",
      "dtype: int64\n"
     ]
    }
   ],
   "source": [
    "# 2. Cek data\n",
    "print(\"Dataset shape:\", dataset.shape)\n",
    "print(\"Jumlah duplikat:\", dataset.duplicated().sum())\n",
    "print(\"Missing values per kolom:\\n\", dataset.isnull().sum())"
   ]
  },
  {
   "cell_type": "code",
   "execution_count": 37,
   "id": "5e935f5a",
   "metadata": {},
   "outputs": [],
   "source": [
    "# 3. Pisahkan Fitur dan Label\n",
    "\n",
    "X = dataset.drop(columns=[\"Outcome\"])  # Semua kolom kecuali target\n",
    "y = dataset[\"Outcome\"]  # Kolom target"
   ]
  },
  {
   "cell_type": "code",
   "execution_count": 38,
   "id": "d121d60b",
   "metadata": {},
   "outputs": [],
   "source": [
    "# 4. Split data\n",
    "\n",
    "X_train, X_test, y_train, y_test = train_test_split(\n",
    "    X, y,\n",
    "    test_size=0.3,\n",
    "    random_state=42,\n",
    "    stratify=y\n",
    ")"
   ]
  },
  {
   "cell_type": "code",
   "execution_count": 39,
   "id": "8b7ecd5a",
   "metadata": {},
   "outputs": [
    {
     "name": "stdout",
     "output_type": "stream",
     "text": [
      "Distribusi sebelum SMOTE:\n",
      " Outcome\n",
      "0    350\n",
      "1    187\n",
      "Name: count, dtype: int64\n",
      "Distribusi setelah SMOTE:\n",
      " Outcome\n",
      "1    350\n",
      "0    350\n",
      "Name: count, dtype: int64\n"
     ]
    }
   ],
   "source": [
    "# 5. SMOTE (Oversampling hanya data training)\n",
    "\n",
    "print(\"Distribusi sebelum SMOTE:\\n\", y_train.value_counts())\n",
    "smote = SMOTE(random_state=42)\n",
    "X_train_resampled, y_train_resampled = smote.fit_resample(X_train, y_train)\n",
    "print(\"Distribusi setelah SMOTE:\\n\", y_train_resampled.value_counts())\n"
   ]
  },
  {
   "cell_type": "code",
   "execution_count": 40,
   "id": "8a2f7655",
   "metadata": {},
   "outputs": [],
   "source": [
    "# 6. standarisasi Data\n",
    "\n",
    "scaler = StandardScaler()\n",
    "X_train_scaled = scaler.fit_transform(X_train_resampled)\n",
    "X_test_scaled = scaler.transform(X_test)\n"
   ]
  },
  {
   "cell_type": "code",
   "execution_count": 41,
   "id": "3acf8cc5",
   "metadata": {},
   "outputs": [
    {
     "data": {
      "image/png": "[encoded data removed]",
      "text/plain": [
       "<Figure size 1200x500 with 2 Axes>"
      ]
     },
     "metadata": {},
     "output_type": "display_data"
    }
   ],
   "source": [
    "# Visualisasi distribusi label\n",
    "fig, ax = plt.subplots(1, 2, figsize=(12, 5))\n",
    "sns.countplot(x=y_train, ax=ax[0])\n",
    "ax[0].set_title(\"Sebelum SMOTE\")\n",
    "sns.countplot(x=y_train_resampled, ax=ax[1])\n",
    "ax[1].set_title(\"Setelah SMOTE\")\n",
    "plt.show()"
   ]
  },
  {
   "cell_type": "code",
   "execution_count": 42,
   "id": "9339f2a3",
   "metadata": {},
   "outputs": [],
   "source": [
    "# 7. Random Forest + GridSearch\n",
    "param_grid_rf = {\n",
    "    'n_estimators': [50, 100, 150],\n",
    "    'max_depth': [None, 5, 10],\n",
    "    'min_samples_split': [2, 5, 10]\n",
    "}\n",
    "\n",
    "grid_rf = GridSearchCV(\n",
    "    RandomForestClassifier(random_state=42),\n",
    "    param_grid=param_grid_rf,\n",
    "    cv=8,\n",
    "    scoring='accuracy',\n",
    "    refit=True\n",
    ")\n",
    "\n",
    "\n",
    "grid_rf.fit(X_train_scaled, y_train_resampled)\n",
    "\n",
    "y_pred_rf = grid_rf.predict(X_test_scaled)\n"
   ]
  },
  {
   "cell_type": "code",
   "execution_count": 43,
   "id": "50864110",
   "metadata": {},
   "outputs": [
    {
     "name": "stdout",
     "output_type": "stream",
     "text": [
      "\n",
      "[Random Forest]\n",
      "Best Parameters: {'max_depth': 10, 'min_samples_split': 2, 'n_estimators': 150}\n",
      "Accuracy: 0.7835497835497836\n",
      "Classification Report:\n",
      "               precision    recall  f1-score   support\n",
      "\n",
      "           0       0.84      0.82      0.83       150\n",
      "           1       0.68      0.72      0.70        81\n",
      "\n",
      "    accuracy                           0.78       231\n",
      "   macro avg       0.76      0.77      0.76       231\n",
      "weighted avg       0.79      0.78      0.78       231\n",
      "\n"
     ]
    },
    {
     "data": {
      "image/png": "[encoded data removed]",
      "text/plain": [
       "<Figure size 640x480 with 2 Axes>"
      ]
     },
     "metadata": {},
     "output_type": "display_data"
    }
   ],
   "source": [
    "print(\"\\n[Random Forest]\")\n",
    "print(\"Best Parameters:\", grid_rf.best_params_)\n",
    "print(\"Accuracy:\", accuracy_score(y_test, y_pred_rf))\n",
    "print(\"Classification Report:\\n\", classification_report(y_test, y_pred_rf))\n",
    "\n",
    "ConfusionMatrixDisplay.from_predictions(y_test, y_pred_rf, cmap='Blues')\n",
    "plt.title(\"Confusion Matrix - Random Forest\")\n",
    "plt.show()\n"
   ]
  },
  {
   "cell_type": "code",
   "execution_count": 50,
   "id": "04d54a61",
   "metadata": {},
   "outputs": [
    {
     "name": "stdout",
     "output_type": "stream",
     "text": [
      "Model dan scaler berhasil disimpan.\n"
     ]
    }
   ],
   "source": [
    "# 8. Simpan model, scaler, dan fitur\n",
    "joblib.dump(grid_rf.best_estimator_, \"model_diabetes.pkl\")         # Model terbaik\n",
    "joblib.dump(scaler, \"scaler_diabetes.pkl\")                         # Scaler hasil training\n",
    "\n",
    "print(\"Model dan scaler berhasil disimpan.\")\n"
   ]
  },
  {
   "cell_type": "code",
   "execution_count": 53,
   "id": "57abb39d",
   "metadata": {},
   "outputs": [],
   "source": [
    "# 9. Fungsi prediksi diabetes\n",
    "def prediksi_diabetes(input_dict):\n",
    "    \"\"\"\n",
    "    Memprediksi apakah pasien menderita diabetes berdasarkan input data.\n",
    "    \n",
    "    Parameters:\n",
    "        input_dict (dict): Input data pasien (8 fitur)\n",
    "\n",
    "    Returns:\n",
    "        tuple: (label prediksi, probabilitas)\n",
    "    \"\"\"\n",
    "    model = joblib.load(\"model_diabetes.pkl\")\n",
    "    scaler = joblib.load(\"scaler_diabetes.pkl\")\n",
    "    \n",
    "\n",
    "    # Buat DataFrame dengan urutan kolom yang sesuai\n",
    "    df_input = pd.DataFrame([input_dict], columns=fitur)\n",
    "\n",
    "    # Standarisasi input\n",
    "    scaled_input = scaler.transform(df_input)\n",
    "\n",
    "    # Prediksi dan probabilitas\n",
    "    prediksi = model.predict(scaled_input)[0]\n",
    "    probabilitas = model.predict_proba(scaled_input)[0][prediksi]\n",
    "\n",
    "    return prediksi, probabilitas\n"
   ]
  },
  {
   "cell_type": "code",
   "execution_count": 49,
   "id": "75870c30",
   "metadata": {},
   "outputs": [
    {
     "name": "stdout",
     "output_type": "stream",
     "text": [
      "\n",
      "Hasil Prediksi: Negatif Diabetes\n",
      "Probabilitas Keyakinan Model: 93.68%\n"
     ]
    }
   ],
   "source": [
    "# 10. Contoh input data pasien\n",
    "data_pasien = {\n",
    "    \"Pregnancies\": 1,\n",
    "    \"Glucose\": 85,\n",
    "    \"BloodPressure\": 66,\n",
    "    \"SkinThickness\": 29,\n",
    "    \"Insulin\": 0,\n",
    "    \"BMI\": 26.6,\n",
    "    \"DiabetesPedigreeFunction\": 0.351,\n",
    "    \"Age\": 31\n",
    "}\n",
    "\n",
    "# Panggil fungsi prediksi\n",
    "label, prob = prediksi_diabetes(data_pasien)\n",
    "\n",
    "# Cetak hasil prediksi\n",
    "hasil = \"Positif Diabetes\" if label == 1 else \"Negatif Diabetes\"\n",
    "print(\"\\nHasil Prediksi:\", hasil)\n",
    "print(f\"Probabilitas Keyakinan Model: {prob:.2%}\")\n"
   ]
  }
 ],
 "metadata": {
  "kernelspec": {
   "display_name": "Python 3",
   "language": "python",
   "name": "python3"
  },
  "language_info": {
   "codemirror_mode": {
    "name": "ipython",
    "version": 3
   },
   "file_extension": ".py",
   "mimetype": "text/x-python",
   "name": "python",
   "nbconvert_exporter": "python",
   "pygments_lexer": "ipython3",
   "version": "3.13.2"
  }
 },
 "nbformat": 4,
 "nbformat_minor": 5
}
